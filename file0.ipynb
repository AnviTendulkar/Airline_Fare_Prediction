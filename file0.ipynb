{
  "cells": [
    {
      "cell_type": "markdown",
      "metadata": {
        "id": "view-in-github",
        "colab_type": "text"
      },
      "source": [
        "<a href=\"https://colab.research.google.com/github/AnviTendulkar/Airline_Fare_Prediction/blob/master/file0.ipynb\" target=\"_parent\"><img src=\"https://colab.research.google.com/assets/colab-badge.svg\" alt=\"Open In Colab\"/></a>"
      ]
    },
    {
      "cell_type": "code",
      "execution_count": null,
      "metadata": {
        "id": "aQstPDVe_Bwh"
      },
      "outputs": [],
      "source": [
        "import pandas as pd\n",
        "import matplotlib.pyplot as plt\n",
        "from sklearn.model_selection import train_test_split\n",
        "from sklearn.preprocessing import StandardScaler ,FunctionTransformer\n",
        "from sklearn.pipeline import Pipeline\n",
        "from sklearn.compose import ColumnTransformer\n",
        "import re\n",
        "from sklearn.model_selection import KFold ,cross_val_score ,GridSearchCV\n",
        "from datetime import datetime, timedelta\n",
        "from sklearn.metrics import mean_squared_error\n",
        "from sklearn.linear_model import LinearRegression\n",
        "from sklearn.preprocessing import StandardScaler, PowerTransformer ,OneHotEncxgboostoder\n",
        "from sklearn.compose import TransformedTargetRegressor\n",
        "from sklearn.pipeline import FeatureUnion, Pipeline, make_pipeline\n",
        "from sklearn.base import BaseEstimator, TransformerMixin\n",
        "from sklearn.metrics import mean_absolute_error\n",
        "from sklearn.decomposition import PCA\n",
        "from sklearn.linear_model import Ridge ,Lasso\n",
        "from sklearn.tree import DecisionTreeRegressor\n",
        "from sklearn.ensemble import RandomForestRegressor ,ExtraTreesRegressor ,AdaBoostRegressor ,GradientBoostingRegressor\n",
        "from xgboost import XGBRegressor\n",
        "from sklearn.neural_network import MLPRegressor\n",
        "from sklearn.svm import SVR"
      ]
    },
    {
      "cell_type": "code",
      "execution_count": null,
      "metadata": {
        "id": "DGRugxYo_KIP"
      },
      "outputs": [],
      "source": [
        "pd.set_option(\"display.max_columns\" ,None)\n",
        "pd.set_option(\"display.max_rows\" ,None)"
      ]
    },
    {
      "cell_type": "code",
      "execution_count": null,
      "metadata": {
        "id": "LKXWexfj_WUS"
      },
      "outputs": [],
      "source": [
        "train_data = pd.read_excel(r'/content/drive/MyDrive/Project/Airline Fare  Prediction/Data_Train.xlsx')"
      ]
    },
    {
      "cell_type": "code",
      "execution_count": null,
      "metadata": {
        "colab": {
          "base_uri": "https://localhost:8080/",
          "height": 406
        },
        "id": "Uxeul85a_gdY",
        "outputId": "ea53bcd3-2713-4397-ac8f-561604440d7d"
      },
      "outputs": [
        {
          "output_type": "execute_result",
          "data": {
            "text/plain": [
              "       Airline Date_of_Journey    Source Destination                  Route  \\\n",
              "0       IndiGo      24/03/2019  Banglore   New Delhi              BLR → DEL   \n",
              "1    Air India       1/05/2019   Kolkata    Banglore  CCU → IXR → BBI → BLR   \n",
              "2  Jet Airways       9/06/2019     Delhi      Cochin  DEL → LKO → BOM → COK   \n",
              "\n",
              "  Dep_Time  Arrival_Time Duration Total_Stops Additional_Info  Price  \n",
              "0    22:20  01:10 22 Mar   2h 50m    non-stop         No info   3897  \n",
              "1    05:50         13:15   7h 25m     2 stops         No info   7662  \n",
              "2    09:25  04:25 10 Jun      19h     2 stops         No info  13882  "
            ],
            "text/html": [
              "\n",
              "  <div id=\"df-bc6b4fef-5a4e-4321-8254-544155805a32\" class=\"colab-df-container\">\n",
              "    <div>\n",
              "<style scoped>\n",
              "    .dataframe tbody tr th:only-of-type {\n",
              "        vertical-align: middle;\n",
              "    }\n",
              "\n",
              "    .dataframe tbody tr th {\n",
              "        vertical-align: top;\n",
              "    }\n",
              "\n",
              "    .dataframe thead th {\n",
              "        text-align: right;\n",
              "    }\n",
              "</style>\n",
              "<table border=\"1\" class=\"dataframe\">\n",
              "  <thead>\n",
              "    <tr style=\"text-align: right;\">\n",
              "      <th></th>\n",
              "      <th>Airline</th>\n",
              "      <th>Date_of_Journey</th>\n",
              "      <th>Source</th>\n",
              "      <th>Destination</th>\n",
              "      <th>Route</th>\n",
              "      <th>Dep_Time</th>\n",
              "      <th>Arrival_Time</th>\n",
              "      <th>Duration</th>\n",
              "      <th>Total_Stops</th>\n",
              "      <th>Additional_Info</th>\n",
              "      <th>Price</th>\n",
              "    </tr>\n",
              "  </thead>\n",
              "  <tbody>\n",
              "    <tr>\n",
              "      <th>0</th>\n",
              "      <td>IndiGo</td>\n",
              "      <td>24/03/2019</td>\n",
              "      <td>Banglore</td>\n",
              "      <td>New Delhi</td>\n",
              "      <td>BLR → DEL</td>\n",
              "      <td>22:20</td>\n",
              "      <td>01:10 22 Mar</td>\n",
              "      <td>2h 50m</td>\n",
              "      <td>non-stop</td>\n",
              "      <td>No info</td>\n",
              "      <td>3897</td>\n",
              "    </tr>\n",
              "    <tr>\n",
              "      <th>1</th>\n",
              "      <td>Air India</td>\n",
              "      <td>1/05/2019</td>\n",
              "      <td>Kolkata</td>\n",
              "      <td>Banglore</td>\n",
              "      <td>CCU → IXR → BBI → BLR</td>\n",
              "      <td>05:50</td>\n",
              "      <td>13:15</td>\n",
              "      <td>7h 25m</td>\n",
              "      <td>2 stops</td>\n",
              "      <td>No info</td>\n",
              "      <td>7662</td>\n",
              "    </tr>\n",
              "    <tr>\n",
              "      <th>2</th>\n",
              "      <td>Jet Airways</td>\n",
              "      <td>9/06/2019</td>\n",
              "      <td>Delhi</td>\n",
              "      <td>Cochin</td>\n",
              "      <td>DEL → LKO → BOM → COK</td>\n",
              "      <td>09:25</td>\n",
              "      <td>04:25 10 Jun</td>\n",
              "      <td>19h</td>\n",
              "      <td>2 stops</td>\n",
              "      <td>No info</td>\n",
              "      <td>13882</td>\n",
              "    </tr>\n",
              "  </tbody>\n",
              "</table>\n",
              "</div>\n",
              "    <div class=\"colab-df-buttons\">\n",
              "\n",
              "  <div class=\"colab-df-container\">\n",
              "    <button class=\"colab-df-convert\" onclick=\"convertToInteractive('df-bc6b4fef-5a4e-4321-8254-544155805a32')\"\n",
              "            title=\"Convert this dataframe to an interactive table.\"\n",
              "            style=\"display:none;\">\n",
              "\n",
              "  <svg xmlns=\"http://www.w3.org/2000/svg\" height=\"24px\" viewBox=\"0 -960 960 960\">\n",
              "    <path d=\"M120-120v-720h720v720H120Zm60-500h600v-160H180v160Zm220 220h160v-160H400v160Zm0 220h160v-160H400v160ZM180-400h160v-160H180v160Zm440 0h160v-160H620v160ZM180-180h160v-160H180v160Zm440 0h160v-160H620v160Z\"/>\n",
              "  </svg>\n",
              "    </button>\n",
              "\n",
              "  <style>\n",
              "    .colab-df-container {\n",
              "      display:flex;\n",
              "      gap: 12px;\n",
              "    }\n",
              "\n",
              "    .colab-df-convert {\n",
              "      background-color: #E8F0FE;\n",
              "      border: none;\n",
              "      border-radius: 50%;\n",
              "      cursor: pointer;\n",
              "      display: none;\n",
              "      fill: #1967D2;\n",
              "      height: 32px;\n",
              "      padding: 0 0 0 0;\n",
              "      width: 32px;\n",
              "    }\n",
              "\n",
              "    .colab-df-convert:hover {\n",
              "      background-color: #E2EBFA;\n",
              "      box-shadow: 0px 1px 2px rgba(60, 64, 67, 0.3), 0px 1px 3px 1px rgba(60, 64, 67, 0.15);\n",
              "      fill: #174EA6;\n",
              "    }\n",
              "\n",
              "    .colab-df-buttons div {\n",
              "      margin-bottom: 4px;\n",
              "    }\n",
              "\n",
              "    [theme=dark] .colab-df-convert {\n",
              "      background-color: #3B4455;\n",
              "      fill: #D2E3FC;\n",
              "    }\n",
              "\n",
              "    [theme=dark] .colab-df-convert:hover {\n",
              "      background-color: #434B5C;\n",
              "      box-shadow: 0px 1px 3px 1px rgba(0, 0, 0, 0.15);\n",
              "      filter: drop-shadow(0px 1px 2px rgba(0, 0, 0, 0.3));\n",
              "      fill: #FFFFFF;\n",
              "    }\n",
              "  </style>\n",
              "\n",
              "    <script>\n",
              "      const buttonEl =\n",
              "        document.querySelector('#df-bc6b4fef-5a4e-4321-8254-544155805a32 button.colab-df-convert');\n",
              "      buttonEl.style.display =\n",
              "        google.colab.kernel.accessAllowed ? 'block' : 'none';\n",
              "\n",
              "      async function convertToInteractive(key) {\n",
              "        const element = document.querySelector('#df-bc6b4fef-5a4e-4321-8254-544155805a32');\n",
              "        const dataTable =\n",
              "          await google.colab.kernel.invokeFunction('convertToInteractive',\n",
              "                                                    [key], {});\n",
              "        if (!dataTable) return;\n",
              "\n",
              "        const docLinkHtml = 'Like what you see? Visit the ' +\n",
              "          '<a target=\"_blank\" href=https://colab.research.google.com/notebooks/data_table.ipynb>data table notebook</a>'\n",
              "          + ' to learn more about interactive tables.';\n",
              "        element.innerHTML = '';\n",
              "        dataTable['output_type'] = 'display_data';\n",
              "        await google.colab.output.renderOutput(dataTable, element);\n",
              "        const docLink = document.createElement('div');\n",
              "        docLink.innerHTML = docLinkHtml;\n",
              "        element.appendChild(docLink);\n",
              "      }\n",
              "    </script>\n",
              "  </div>\n",
              "\n",
              "\n",
              "<div id=\"df-bc53ce27-b135-4111-8469-7cb97dda12d2\">\n",
              "  <button class=\"colab-df-quickchart\" onclick=\"quickchart('df-bc53ce27-b135-4111-8469-7cb97dda12d2')\"\n",
              "            title=\"Suggest charts\"\n",
              "            style=\"display:none;\">\n",
              "\n",
              "<svg xmlns=\"http://www.w3.org/2000/svg\" height=\"24px\"viewBox=\"0 0 24 24\"\n",
              "     width=\"24px\">\n",
              "    <g>\n",
              "        <path d=\"M19 3H5c-1.1 0-2 .9-2 2v14c0 1.1.9 2 2 2h14c1.1 0 2-.9 2-2V5c0-1.1-.9-2-2-2zM9 17H7v-7h2v7zm4 0h-2V7h2v10zm4 0h-2v-4h2v4z\"/>\n",
              "    </g>\n",
              "</svg>\n",
              "  </button>\n",
              "\n",
              "<style>\n",
              "  .colab-df-quickchart {\n",
              "      --bg-color: #E8F0FE;\n",
              "      --fill-color: #1967D2;\n",
              "      --hover-bg-color: #E2EBFA;\n",
              "      --hover-fill-color: #174EA6;\n",
              "      --disabled-fill-color: #AAA;\n",
              "      --disabled-bg-color: #DDD;\n",
              "  }\n",
              "\n",
              "  [theme=dark] .colab-df-quickchart {\n",
              "      --bg-color: #3B4455;\n",
              "      --fill-color: #D2E3FC;\n",
              "      --hover-bg-color: #434B5C;\n",
              "      --hover-fill-color: #FFFFFF;\n",
              "      --disabled-bg-color: #3B4455;\n",
              "      --disabled-fill-color: #666;\n",
              "  }\n",
              "\n",
              "  .colab-df-quickchart {\n",
              "    background-color: var(--bg-color);\n",
              "    border: none;\n",
              "    border-radius: 50%;\n",
              "    cursor: pointer;\n",
              "    display: none;\n",
              "    fill: var(--fill-color);\n",
              "    height: 32px;\n",
              "    padding: 0;\n",
              "    width: 32px;\n",
              "  }\n",
              "\n",
              "  .colab-df-quickchart:hover {\n",
              "    background-color: var(--hover-bg-color);\n",
              "    box-shadow: 0 1px 2px rgba(60, 64, 67, 0.3), 0 1px 3px 1px rgba(60, 64, 67, 0.15);\n",
              "    fill: var(--button-hover-fill-color);\n",
              "  }\n",
              "\n",
              "  .colab-df-quickchart-complete:disabled,\n",
              "  .colab-df-quickchart-complete:disabled:hover {\n",
              "    background-color: var(--disabled-bg-color);\n",
              "    fill: var(--disabled-fill-color);\n",
              "    box-shadow: none;\n",
              "  }\n",
              "\n",
              "  .colab-df-spinner {\n",
              "    border: 2px solid var(--fill-color);\n",
              "    border-color: transparent;\n",
              "    border-bottom-color: var(--fill-color);\n",
              "    animation:\n",
              "      spin 1s steps(1) infinite;\n",
              "  }\n",
              "\n",
              "  @keyframes spin {\n",
              "    0% {\n",
              "      border-color: transparent;\n",
              "      border-bottom-color: var(--fill-color);\n",
              "      border-left-color: var(--fill-color);\n",
              "    }\n",
              "    20% {\n",
              "      border-color: transparent;\n",
              "      border-left-color: var(--fill-color);\n",
              "      border-top-color: var(--fill-color);\n",
              "    }\n",
              "    30% {\n",
              "      border-color: transparent;\n",
              "      border-left-color: var(--fill-color);\n",
              "      border-top-color: var(--fill-color);\n",
              "      border-right-color: var(--fill-color);\n",
              "    }\n",
              "    40% {\n",
              "      border-color: transparent;\n",
              "      border-right-color: var(--fill-color);\n",
              "      border-top-color: var(--fill-color);\n",
              "    }\n",
              "    60% {\n",
              "      border-color: transparent;\n",
              "      border-right-color: var(--fill-color);\n",
              "    }\n",
              "    80% {\n",
              "      border-color: transparent;\n",
              "      border-right-color: var(--fill-color);\n",
              "      border-bottom-color: var(--fill-color);\n",
              "    }\n",
              "    90% {\n",
              "      border-color: transparent;\n",
              "      border-bottom-color: var(--fill-color);\n",
              "    }\n",
              "  }\n",
              "</style>\n",
              "\n",
              "  <script>\n",
              "    async function quickchart(key) {\n",
              "      const quickchartButtonEl =\n",
              "        document.querySelector('#' + key + ' button');\n",
              "      quickchartButtonEl.disabled = true;  // To prevent multiple clicks.\n",
              "      quickchartButtonEl.classList.add('colab-df-spinner');\n",
              "      try {\n",
              "        const charts = await google.colab.kernel.invokeFunction(\n",
              "            'suggestCharts', [key], {});\n",
              "      } catch (error) {\n",
              "        console.error('Error during call to suggestCharts:', error);\n",
              "      }\n",
              "      quickchartButtonEl.classList.remove('colab-df-spinner');\n",
              "      quickchartButtonEl.classList.add('colab-df-quickchart-complete');\n",
              "    }\n",
              "    (() => {\n",
              "      let quickchartButtonEl =\n",
              "        document.querySelector('#df-bc53ce27-b135-4111-8469-7cb97dda12d2 button');\n",
              "      quickchartButtonEl.style.display =\n",
              "        google.colab.kernel.accessAllowed ? 'block' : 'none';\n",
              "    })();\n",
              "  </script>\n",
              "</div>\n",
              "\n",
              "    </div>\n",
              "  </div>\n"
            ]
          },
          "metadata": {},
          "execution_count": 154
        }
      ],
      "source": [
        "train_data.head(3)"
      ]
    },
    {
      "cell_type": "markdown",
      "source": [],
      "metadata": {
        "id": "_k3_60iTPCWH"
      }
    },
    {
      "cell_type": "code",
      "source": [
        "train_data.dropna(inplace=True)"
      ],
      "metadata": {
        "id": "YB0De9gK01qU"
      },
      "execution_count": null,
      "outputs": []
    },
    {
      "cell_type": "code",
      "source": [
        "X = train_data.loc[:,train_data.columns !='Price']\n",
        "y =train_data['Price']"
      ],
      "metadata": {
        "id": "xIra4u0VYwf5"
      },
      "execution_count": null,
      "outputs": []
    },
    {
      "cell_type": "code",
      "source": [
        "# print(X.shape ,y.shape)\n",
        "# print(x_train.shape ,x_test.shape,y_train.shape,y_test.shape ,df.shape,y.shape)"
      ],
      "metadata": {
        "id": "a9xXvR_MNyjR"
      },
      "execution_count": null,
      "outputs": []
    },
    {
      "cell_type": "code",
      "source": [
        "X[X.Airline =='Trujet']"
      ],
      "metadata": {
        "colab": {
          "base_uri": "https://localhost:8080/",
          "height": 170
        },
        "id": "A_EKbBxUXcHJ",
        "outputId": "f8143b1a-f80c-41c0-a215-b8075cb4e00d"
      },
      "execution_count": null,
      "outputs": [
        {
          "output_type": "execute_result",
          "data": {
            "text/plain": [
              "     Airline Date_of_Journey  Source Destination            Route Dep_Time  \\\n",
              "2878  Trujet       6/03/2019  Mumbai   Hyderabad  BOM → NDC → HYD    13:05   \n",
              "\n",
              "     Arrival_Time Duration Total_Stops Additional_Info  \n",
              "2878        16:20   3h 15m      1 stop         No info  "
            ],
            "text/html": [
              "\n",
              "  <div id=\"df-0062d4e7-cb84-4683-8c47-ec33452a579a\" class=\"colab-df-container\">\n",
              "    <div>\n",
              "<style scoped>\n",
              "    .dataframe tbody tr th:only-of-type {\n",
              "        vertical-align: middle;\n",
              "    }\n",
              "\n",
              "    .dataframe tbody tr th {\n",
              "        vertical-align: top;\n",
              "    }\n",
              "\n",
              "    .dataframe thead th {\n",
              "        text-align: right;\n",
              "    }\n",
              "</style>\n",
              "<table border=\"1\" class=\"dataframe\">\n",
              "  <thead>\n",
              "    <tr style=\"text-align: right;\">\n",
              "      <th></th>\n",
              "      <th>Airline</th>\n",
              "      <th>Date_of_Journey</th>\n",
              "      <th>Source</th>\n",
              "      <th>Destination</th>\n",
              "      <th>Route</th>\n",
              "      <th>Dep_Time</th>\n",
              "      <th>Arrival_Time</th>\n",
              "      <th>Duration</th>\n",
              "      <th>Total_Stops</th>\n",
              "      <th>Additional_Info</th>\n",
              "    </tr>\n",
              "  </thead>\n",
              "  <tbody>\n",
              "    <tr>\n",
              "      <th>2878</th>\n",
              "      <td>Trujet</td>\n",
              "      <td>6/03/2019</td>\n",
              "      <td>Mumbai</td>\n",
              "      <td>Hyderabad</td>\n",
              "      <td>BOM → NDC → HYD</td>\n",
              "      <td>13:05</td>\n",
              "      <td>16:20</td>\n",
              "      <td>3h 15m</td>\n",
              "      <td>1 stop</td>\n",
              "      <td>No info</td>\n",
              "    </tr>\n",
              "  </tbody>\n",
              "</table>\n",
              "</div>\n",
              "    <div class=\"colab-df-buttons\">\n",
              "\n",
              "  <div class=\"colab-df-container\">\n",
              "    <button class=\"colab-df-convert\" onclick=\"convertToInteractive('df-0062d4e7-cb84-4683-8c47-ec33452a579a')\"\n",
              "            title=\"Convert this dataframe to an interactive table.\"\n",
              "            style=\"display:none;\">\n",
              "\n",
              "  <svg xmlns=\"http://www.w3.org/2000/svg\" height=\"24px\" viewBox=\"0 -960 960 960\">\n",
              "    <path d=\"M120-120v-720h720v720H120Zm60-500h600v-160H180v160Zm220 220h160v-160H400v160Zm0 220h160v-160H400v160ZM180-400h160v-160H180v160Zm440 0h160v-160H620v160ZM180-180h160v-160H180v160Zm440 0h160v-160H620v160Z\"/>\n",
              "  </svg>\n",
              "    </button>\n",
              "\n",
              "  <style>\n",
              "    .colab-df-container {\n",
              "      display:flex;\n",
              "      gap: 12px;\n",
              "    }\n",
              "\n",
              "    .colab-df-convert {\n",
              "      background-color: #E8F0FE;\n",
              "      border: none;\n",
              "      border-radius: 50%;\n",
              "      cursor: pointer;\n",
              "      display: none;\n",
              "      fill: #1967D2;\n",
              "      height: 32px;\n",
              "      padding: 0 0 0 0;\n",
              "      width: 32px;\n",
              "    }\n",
              "\n",
              "    .colab-df-convert:hover {\n",
              "      background-color: #E2EBFA;\n",
              "      box-shadow: 0px 1px 2px rgba(60, 64, 67, 0.3), 0px 1px 3px 1px rgba(60, 64, 67, 0.15);\n",
              "      fill: #174EA6;\n",
              "    }\n",
              "\n",
              "    .colab-df-buttons div {\n",
              "      margin-bottom: 4px;\n",
              "    }\n",
              "\n",
              "    [theme=dark] .colab-df-convert {\n",
              "      background-color: #3B4455;\n",
              "      fill: #D2E3FC;\n",
              "    }\n",
              "\n",
              "    [theme=dark] .colab-df-convert:hover {\n",
              "      background-color: #434B5C;\n",
              "      box-shadow: 0px 1px 3px 1px rgba(0, 0, 0, 0.15);\n",
              "      filter: drop-shadow(0px 1px 2px rgba(0, 0, 0, 0.3));\n",
              "      fill: #FFFFFF;\n",
              "    }\n",
              "  </style>\n",
              "\n",
              "    <script>\n",
              "      const buttonEl =\n",
              "        document.querySelector('#df-0062d4e7-cb84-4683-8c47-ec33452a579a button.colab-df-convert');\n",
              "      buttonEl.style.display =\n",
              "        google.colab.kernel.accessAllowed ? 'block' : 'none';\n",
              "\n",
              "      async function convertToInteractive(key) {\n",
              "        const element = document.querySelector('#df-0062d4e7-cb84-4683-8c47-ec33452a579a');\n",
              "        const dataTable =\n",
              "          await google.colab.kernel.invokeFunction('convertToInteractive',\n",
              "                                                    [key], {});\n",
              "        if (!dataTable) return;\n",
              "\n",
              "        const docLinkHtml = 'Like what you see? Visit the ' +\n",
              "          '<a target=\"_blank\" href=https://colab.research.google.com/notebooks/data_table.ipynb>data table notebook</a>'\n",
              "          + ' to learn more about interactive tables.';\n",
              "        element.innerHTML = '';\n",
              "        dataTable['output_type'] = 'display_data';\n",
              "        await google.colab.output.renderOutput(dataTable, element);\n",
              "        const docLink = document.createElement('div');\n",
              "        docLink.innerHTML = docLinkHtml;\n",
              "        element.appendChild(docLink);\n",
              "      }\n",
              "    </script>\n",
              "  </div>\n",
              "\n",
              "\n",
              "    </div>\n",
              "  </div>\n"
            ]
          },
          "metadata": {},
          "execution_count": 158
        }
      ]
    },
    {
      "cell_type": "code",
      "source": [
        "# pip install scikit-multilearn"
      ],
      "metadata": {
        "id": "v615Tap_hBWq"
      },
      "execution_count": null,
      "outputs": []
    },
    {
      "cell_type": "code",
      "source": [
        "# pip install -U scikit-multilearn\n"
      ],
      "metadata": {
        "id": "IZAZ8UnXkVlQ"
      },
      "execution_count": null,
      "outputs": []
    },
    {
      "cell_type": "code",
      "source": [
        "# import skmultilearn\n",
        "# from skmultilearn.model_selection import iterative_train_test_split\n",
        "# x_train, y_train, x_test, y_test = iterative_train_test_split(X, y, test_size = 0.2)\n",
        "# ValueError: not enough values to unpack (expected 2, got 1)\n",
        "\n",
        "x_train ,x_test ,y_train ,y_test = train_test_split(X,y ,test_size=0.20 )"
      ],
      "metadata": {
        "id": "rS2usbYsYr4N"
      },
      "execution_count": null,
      "outputs": []
    },
    {
      "cell_type": "code",
      "source": [
        "def Arrival_Date_calculation(row):\n",
        "    pattern = re.compile(r'(?:(\\d+)h)?\\s?(?:(\\d+)m)?')\n",
        "    match = pattern.match(row['Duration'])\n",
        "    if match:\n",
        "        hours = int(match.group(1)) if match.group(1) else 0\n",
        "        minutes = int(match.group(2)) if match.group(2) else 0\n",
        "\n",
        "    # Concatenate 'Date_of_Journey' and 'Dep_Time'\n",
        "    date_of_journey = row['Date_of_Journey'] + ' ' + row['Dep_Time']\n",
        "\n",
        "    # Convert the concatenated string to datetime\n",
        "    journey_date_time = datetime.strptime(date_of_journey, \"%d/%m/%Y %H:%M\")\n",
        "\n",
        "    # Calculate arrival date by adding 'Duration_hour' and 'Duration_minute' to 'Date_of_Journey'\n",
        "    arrival_date = journey_date_time + timedelta(hours=hours, minutes=minutes)\n",
        "    return arrival_date\n",
        "\n",
        "def split_dep_time_in_hours_min(str1):\n",
        "    lst = str1.split(':')\n",
        "    return pd.Series({'Dep_Hour': lst[0], 'Dep_Minute': lst[1]})"
      ],
      "metadata": {
        "id": "7-cZo_NNYEGo"
      },
      "execution_count": null,
      "outputs": []
    },
    {
      "cell_type": "code",
      "source": [
        "###################\n",
        "from sklearn.base import BaseEstimator, TransformerMixin\n",
        "import pandas as pd\n",
        "\n",
        "class DateColumnExtractor(BaseEstimator, TransformerMixin):\n",
        "    def fit(self, X, y=None):\n",
        "        return self\n",
        "\n",
        "    def transform(self, X):\n",
        "        temp_df = pd.DataFrame()\n",
        "        X['Arrival_Date'] = X.apply(Arrival_Date_calculation, axis=1)\n",
        "        temp_df['Arrival_Year'] = X['Arrival_Date'].dt.year\n",
        "        temp_df['Arrival_Month'] = X['Arrival_Date'].dt.month\n",
        "        temp_df['Arrival_Day'] = X['Arrival_Date'].dt.day\n",
        "        temp_df['Arrival_Hour'] = X['Arrival_Date'].dt.hour\n",
        "        temp_df['Arrival_Minute'] = X['Arrival_Date'].dt.minute\n",
        "\n",
        "        temp = X['Date_of_Journey'].copy()\n",
        "        temp = pd.to_datetime(temp ,format='%d/%m/%Y')\n",
        "        # Extract year, month, and day into separate columns\n",
        "        temp_df['Dep_Year'] = temp.dt.year\n",
        "        temp_df['Dep_Month'] = temp.dt.month\n",
        "        temp_df['Dep_Day'] = temp.dt.day\n",
        "\n",
        "        temp_df[['Dep_Hour', 'Dep_Minute']] = X['Dep_Time'].apply(split_dep_time_in_hours_min)\n",
        "        return temp_df\n",
        "\n",
        "    def get_params(self, deep=True):\n",
        "        return {}\n"
      ],
      "metadata": {
        "id": "SnDZJK0eR4T6"
      },
      "execution_count": null,
      "outputs": []
    },
    {
      "cell_type": "code",
      "source": [
        "class TotalStopConverter(BaseEstimator, TransformerMixin):\n",
        "    def fit(self, X, y=None):\n",
        "        return self\n",
        "\n",
        "    def transform(self, X):\n",
        "        temp_df = pd.DataFrame()\n",
        "        df_stop= X.replace({'1 stops': 1, '1 stop': 1, 'non-stop': 0, '2 stops': 2, '3 stops': 3, '4 stops': 4})\n",
        "\n",
        "        return df_stop\n",
        "\n",
        "    def get_params(self, deep=True):\n",
        "        return {}"
      ],
      "metadata": {
        "id": "U6v_32HxL63E"
      },
      "execution_count": null,
      "outputs": []
    },
    {
      "cell_type": "code",
      "source": [
        "#################################################\n",
        "\n",
        "from sklearn.compose import ColumnTransformer\n",
        "from sklearn.preprocessing import OneHotEncoder, FunctionTransformer\n",
        "from sklearn.pipeline import Pipeline\n",
        "from sklearn.base import TransformerMixin\n",
        "import pandas as pd\n",
        "\n",
        "# Assume the DateColumnExtractor class is defined as provided in your previous message\n",
        "\n",
        "# Your DataFrame\n",
        "df = x_train[['Airline', 'Date_of_Journey', 'Source', 'Destination', 'Dep_Time', 'Duration', 'Total_Stops']]\n",
        "\n",
        "# Define the DateColumnExtractor\n",
        "date_extractor = DateColumnExtractor()\n",
        "stop_extractor =TotalStopConverter()\n",
        "# Define the ColumnTransformer\n",
        "preprocessor = ColumnTransformer([\n",
        "    ('one-hot', OneHotEncoder(drop='first', sparse_output=False, dtype='int16' ,handle_unknown = 'ignore'), [0, 2, 3]),\n",
        "    # ('total_stop', FunctionTransformer(lambda x: x.replace({'1 stops': 1, '1 stop': 1, 'non-stop': 0, '2 stops': 2, '3 stops': 3, '4 stops': 4}),\n",
        "    #                                   validate=False), [df.columns.get_loc('Total_Stops')]),\n",
        "    ('TotalStopConverter',stop_extractor, ['Total_Stops']),\n",
        "    ('date_extractor', date_extractor, ['Date_of_Journey', 'Dep_Time','Duration']),\n",
        "\n",
        "], remainder='passthrough')\n",
        "\n",
        "# Define the pipeline\n",
        "# pipe_clf = Pipeline([\n",
        "#     ('preprocessor', preprocessor),\n",
        "#     ('scaling' ,StandardScaler()),\n",
        "#     ('regression_model', LinearRegression())\n",
        "# ])\n",
        "\n",
        "\n",
        "clf = Pipeline([\n",
        "    ('preprocessor', preprocessor),\n",
        "    ('scaling' ,StandardScaler()),\n",
        "    # ('regression_model', LinearRegression())\n",
        "])\n",
        "pipe_clf = Pipeline([\n",
        "    (\"clf\" ,clf),\n",
        "    ('regression_model', LinearRegression())\n",
        "])\n",
        "\n",
        "# Fit and transform the data\n",
        "# transformed_data = pipe_clf.fit_transform(df) //if linear regression is used then fit method does not work\n",
        "transformed_data = pipe_clf.fit(df,y_train)\n",
        "# print(pd.DataFrame(transformed_data).head(3))\n",
        "\n"
      ],
      "metadata": {
        "id": "XDwKk9xUZRoF"
      },
      "execution_count": null,
      "outputs": []
    },
    {
      "cell_type": "code",
      "source": [],
      "metadata": {
        "id": "ERvFCF4sE2D1"
      },
      "execution_count": null,
      "outputs": []
    },
    {
      "cell_type": "code",
      "source": [
        "predictions = pipe_clf.predict(x_test)\n",
        "from sklearn.metrics import mean_absolute_error\n",
        "print(\"Model Accuracy: %.3f\" % pipe_clf.score(x_test, y_test))\n",
        "mae = mean_absolute_error(y_test, predictions)\n",
        "print(\"The mean squared error (MSE) on test set: {:.4f}\".format(mae))"
      ],
      "metadata": {
        "id": "tO5O-jVvAHXs",
        "colab": {
          "base_uri": "https://localhost:8080/"
        },
        "outputId": "9d331a0e-e050-4b17-b17d-a0c228942e57"
      },
      "execution_count": null,
      "outputs": [
        {
          "output_type": "stream",
          "name": "stdout",
          "text": [
            "Model Accuracy: 0.634\n",
            "The mean squared error (MSE) on test set: 2006.7423\n"
          ]
        }
      ]
    },
    {
      "cell_type": "code",
      "source": [
        "print(x_train['Airline'].unique())\n",
        "print(x_test['Airline'].unique())"
      ],
      "metadata": {
        "id": "gAkljit2Ddjk",
        "colab": {
          "base_uri": "https://localhost:8080/"
        },
        "outputId": "d8f8293b-ffba-47e9-ac97-5fa0a3ae5455"
      },
      "execution_count": null,
      "outputs": [
        {
          "output_type": "stream",
          "name": "stdout",
          "text": [
            "['IndiGo' 'Multiple carriers' 'Air India' 'SpiceJet' 'Jet Airways' 'GoAir'\n",
            " 'Vistara' 'Air Asia' 'Jet Airways Business'\n",
            " 'Multiple carriers Premium economy' 'Vistara Premium economy' 'Trujet']\n",
            "['Air India' 'Jet Airways' 'SpiceJet' 'IndiGo' 'Multiple carriers' 'GoAir'\n",
            " 'Vistara' 'Air Asia' 'Multiple carriers Premium economy'\n",
            " 'Jet Airways Business' 'Vistara Premium economy']\n"
          ]
        }
      ]
    },
    {
      "cell_type": "code",
      "source": [
        "# Get the names of the transformed columns\n",
        "one_hot_columns = preprocessor.named_transformers_['one-hot'].get_feature_names_out(['Airline', 'Source', 'Destination'])\n",
        "total_stop_columns = ['Total_Stops']  # You might need to update this based on your actual transformation\n",
        "\n",
        "# Combine all transformed column names\n",
        "transformed_columns = list(one_hot_columns) + total_stop_columns + ['Arrival_Year', 'Arrival_Month', 'Arrival_Day', 'Arrival_Hour', 'Arrival_Minute', 'Dep_Year', 'Dep_Month', 'Dep_Day', 'Dep_Hour', 'Dep_Minute']\n",
        "\n",
        "# Concatenate the transformed data with the remaining columns and set column names\n",
        "transformed_df = pd.DataFrame(clf.transform(df) ,columns = transformed_columns)\n",
        "\n",
        "# Print the transformed DataFrame with column names\n",
        "print(transformed_df.head(3))\n"
      ],
      "metadata": {
        "id": "_j7dXc5Xu5AC",
        "colab": {
          "base_uri": "https://localhost:8080/"
        },
        "outputId": "9644f0f5-7d6f-4538-d253-7918748fbc1f"
      },
      "execution_count": null,
      "outputs": [
        {
          "output_type": "stream",
          "name": "stdout",
          "text": [
            "   Airline_Air India  Airline_GoAir  Airline_IndiGo  Airline_Jet Airways  \\\n",
            "0          -0.444731      -0.135473        2.033523            -0.749962   \n",
            "1          -0.444731      -0.135473       -0.491757            -0.749962   \n",
            "2          -0.444731      -0.135473       -0.491757            -0.749962   \n",
            "\n",
            "   Airline_Jet Airways Business  Airline_Multiple carriers  \\\n",
            "0                     -0.021641                  -0.352622   \n",
            "1                     -0.021641                   2.835900   \n",
            "2                     -0.021641                   2.835900   \n",
            "\n",
            "   Airline_Multiple carriers Premium economy  Airline_SpiceJet  \\\n",
            "0                                  -0.035902         -0.286694   \n",
            "1                                  -0.035902         -0.286694   \n",
            "2                                  -0.035902         -0.286694   \n",
            "\n",
            "   Airline_Trujet  Airline_Vistara  Airline_Vistara Premium economy  \\\n",
            "0       -0.010819        -0.214242                        -0.015301   \n",
            "1       -0.010819        -0.214242                        -0.015301   \n",
            "2       -0.010819        -0.214242                        -0.015301   \n",
            "\n",
            "   Source_Chennai  Source_Delhi  Source_Kolkata  Source_Mumbai  \\\n",
            "0       -0.189097     -0.857336       -0.607775      -0.264317   \n",
            "1       -0.189097      1.166404       -0.607775      -0.264317   \n",
            "2       -0.189097      1.166404       -0.607775      -0.264317   \n",
            "\n",
            "   Destination_Cochin  Destination_Delhi  Destination_Hyderabad  \\\n",
            "0           -0.857336           2.707113              -0.264317   \n",
            "1            1.166404          -0.369397              -0.264317   \n",
            "2            1.166404          -0.369397              -0.264317   \n",
            "\n",
            "   Destination_Kolkata  Destination_New Delhi  Total_Stops  Arrival_Year  \\\n",
            "0            -0.189097              -0.308142    -1.218393           0.0   \n",
            "1            -0.189097              -0.308142     0.259417           0.0   \n",
            "2            -0.189097              -0.308142     0.259417           0.0   \n",
            "\n",
            "   Arrival_Month  Arrival_Day  Arrival_Hour  Arrival_Minute  Dep_Year  \\\n",
            "0      -0.600667    -0.940171      1.259161        1.532715       0.0   \n",
            "1       1.115955     0.239824     -1.799345        0.324389       0.0   \n",
            "2       0.257644     1.655818     -1.799345        0.324389       0.0   \n",
            "\n",
            "   Dep_Month   Dep_Day  Dep_Hour  Dep_Minute  \n",
            "0  -0.600667 -0.892284  1.297282   -1.298486  \n",
            "1   1.115955  0.170472 -0.439269   -1.298486  \n",
            "2   0.257644  1.587481  0.949972   -1.298486  \n"
          ]
        }
      ]
    },
    {
      "cell_type": "code",
      "source": [
        "### predict one item\n",
        "data = [['Jet Airways' ,'15/05/2019' ,'Banglore' ,'Delhi','15:15' ,'2h 55m' ,'non-stop']]\n",
        "columns = ['Airline'\t,'Date_of_Journey',\t'Source',\t'Destination',\t'Dep_Time',\t'Duration',\t'Total_Stops']\n",
        "# Convert to DataFrame\n",
        "one_df = pd.DataFrame(data, columns=columns)\n",
        "pipe_clf.predict(one_df)"
      ],
      "metadata": {
        "id": "BbPxItGp5VHz",
        "colab": {
          "base_uri": "https://localhost:8080/"
        },
        "outputId": "43ad031e-34e2-4922-bec2-c82e0fe7e0eb"
      },
      "execution_count": null,
      "outputs": [
        {
          "output_type": "execute_result",
          "data": {
            "text/plain": [
              "array([7937.33960109])"
            ]
          },
          "metadata": {},
          "execution_count": 169
        }
      ]
    },
    {
      "cell_type": "markdown",
      "source": [],
      "metadata": {
        "id": "dIHMhgXvC1mi"
      }
    },
    {
      "cell_type": "code",
      "source": [
        "df.head(1)"
      ],
      "metadata": {
        "id": "WoYtT16o2PZI",
        "colab": {
          "base_uri": "https://localhost:8080/",
          "height": 81
        },
        "outputId": "0855631a-8ded-4854-e616-61443c515905"
      },
      "execution_count": null,
      "outputs": [
        {
          "output_type": "execute_result",
          "data": {
            "text/plain": [
              "     Airline Date_of_Journey    Source Destination Dep_Time Duration  \\\n",
              "8723  IndiGo       6/04/2019  Banglore       Delhi    20:00   2h 50m   \n",
              "\n",
              "     Total_Stops  \n",
              "8723    non-stop  "
            ],
            "text/html": [
              "\n",
              "  <div id=\"df-3db36d81-7d40-46db-a2bb-57f4993a26ef\" class=\"colab-df-container\">\n",
              "    <div>\n",
              "<style scoped>\n",
              "    .dataframe tbody tr th:only-of-type {\n",
              "        vertical-align: middle;\n",
              "    }\n",
              "\n",
              "    .dataframe tbody tr th {\n",
              "        vertical-align: top;\n",
              "    }\n",
              "\n",
              "    .dataframe thead th {\n",
              "        text-align: right;\n",
              "    }\n",
              "</style>\n",
              "<table border=\"1\" class=\"dataframe\">\n",
              "  <thead>\n",
              "    <tr style=\"text-align: right;\">\n",
              "      <th></th>\n",
              "      <th>Airline</th>\n",
              "      <th>Date_of_Journey</th>\n",
              "      <th>Source</th>\n",
              "      <th>Destination</th>\n",
              "      <th>Dep_Time</th>\n",
              "      <th>Duration</th>\n",
              "      <th>Total_Stops</th>\n",
              "    </tr>\n",
              "  </thead>\n",
              "  <tbody>\n",
              "    <tr>\n",
              "      <th>8723</th>\n",
              "      <td>IndiGo</td>\n",
              "      <td>6/04/2019</td>\n",
              "      <td>Banglore</td>\n",
              "      <td>Delhi</td>\n",
              "      <td>20:00</td>\n",
              "      <td>2h 50m</td>\n",
              "      <td>non-stop</td>\n",
              "    </tr>\n",
              "  </tbody>\n",
              "</table>\n",
              "</div>\n",
              "    <div class=\"colab-df-buttons\">\n",
              "\n",
              "  <div class=\"colab-df-container\">\n",
              "    <button class=\"colab-df-convert\" onclick=\"convertToInteractive('df-3db36d81-7d40-46db-a2bb-57f4993a26ef')\"\n",
              "            title=\"Convert this dataframe to an interactive table.\"\n",
              "            style=\"display:none;\">\n",
              "\n",
              "  <svg xmlns=\"http://www.w3.org/2000/svg\" height=\"24px\" viewBox=\"0 -960 960 960\">\n",
              "    <path d=\"M120-120v-720h720v720H120Zm60-500h600v-160H180v160Zm220 220h160v-160H400v160Zm0 220h160v-160H400v160ZM180-400h160v-160H180v160Zm440 0h160v-160H620v160ZM180-180h160v-160H180v160Zm440 0h160v-160H620v160Z\"/>\n",
              "  </svg>\n",
              "    </button>\n",
              "\n",
              "  <style>\n",
              "    .colab-df-container {\n",
              "      display:flex;\n",
              "      gap: 12px;\n",
              "    }\n",
              "\n",
              "    .colab-df-convert {\n",
              "      background-color: #E8F0FE;\n",
              "      border: none;\n",
              "      border-radius: 50%;\n",
              "      cursor: pointer;\n",
              "      display: none;\n",
              "      fill: #1967D2;\n",
              "      height: 32px;\n",
              "      padding: 0 0 0 0;\n",
              "      width: 32px;\n",
              "    }\n",
              "\n",
              "    .colab-df-convert:hover {\n",
              "      background-color: #E2EBFA;\n",
              "      box-shadow: 0px 1px 2px rgba(60, 64, 67, 0.3), 0px 1px 3px 1px rgba(60, 64, 67, 0.15);\n",
              "      fill: #174EA6;\n",
              "    }\n",
              "\n",
              "    .colab-df-buttons div {\n",
              "      margin-bottom: 4px;\n",
              "    }\n",
              "\n",
              "    [theme=dark] .colab-df-convert {\n",
              "      background-color: #3B4455;\n",
              "      fill: #D2E3FC;\n",
              "    }\n",
              "\n",
              "    [theme=dark] .colab-df-convert:hover {\n",
              "      background-color: #434B5C;\n",
              "      box-shadow: 0px 1px 3px 1px rgba(0, 0, 0, 0.15);\n",
              "      filter: drop-shadow(0px 1px 2px rgba(0, 0, 0, 0.3));\n",
              "      fill: #FFFFFF;\n",
              "    }\n",
              "  </style>\n",
              "\n",
              "    <script>\n",
              "      const buttonEl =\n",
              "        document.querySelector('#df-3db36d81-7d40-46db-a2bb-57f4993a26ef button.colab-df-convert');\n",
              "      buttonEl.style.display =\n",
              "        google.colab.kernel.accessAllowed ? 'block' : 'none';\n",
              "\n",
              "      async function convertToInteractive(key) {\n",
              "        const element = document.querySelector('#df-3db36d81-7d40-46db-a2bb-57f4993a26ef');\n",
              "        const dataTable =\n",
              "          await google.colab.kernel.invokeFunction('convertToInteractive',\n",
              "                                                    [key], {});\n",
              "        if (!dataTable) return;\n",
              "\n",
              "        const docLinkHtml = 'Like what you see? Visit the ' +\n",
              "          '<a target=\"_blank\" href=https://colab.research.google.com/notebooks/data_table.ipynb>data table notebook</a>'\n",
              "          + ' to learn more about interactive tables.';\n",
              "        element.innerHTML = '';\n",
              "        dataTable['output_type'] = 'display_data';\n",
              "        await google.colab.output.renderOutput(dataTable, element);\n",
              "        const docLink = document.createElement('div');\n",
              "        docLink.innerHTML = docLinkHtml;\n",
              "        element.appendChild(docLink);\n",
              "      }\n",
              "    </script>\n",
              "  </div>\n",
              "\n",
              "\n",
              "    </div>\n",
              "  </div>\n"
            ]
          },
          "metadata": {},
          "execution_count": 170
        }
      ]
    },
    {
      "cell_type": "code",
      "source": [
        "y_train.head(1)"
      ],
      "metadata": {
        "id": "oh0mZ6LtGHED",
        "colab": {
          "base_uri": "https://localhost:8080/"
        },
        "outputId": "0f15cc80-a9f0-4a4a-a18a-f86a7bf01556"
      },
      "execution_count": null,
      "outputs": [
        {
          "output_type": "execute_result",
          "data": {
            "text/plain": [
              "8723    4823\n",
              "Name: Price, dtype: int64"
            ]
          },
          "metadata": {},
          "execution_count": 171
        }
      ]
    },
    {
      "cell_type": "code",
      "source": [
        "### Test the different models"
      ],
      "metadata": {
        "id": "0c1KbCJPHGn9"
      },
      "execution_count": null,
      "outputs": []
    },
    {
      "cell_type": "code",
      "source": [
        "model_dict = {\n",
        "    'linear_reg':LinearRegression(),\n",
        "    'svr':SVR(),\n",
        "    'ridge':Ridge(),\n",
        "    'LASSO':Lasso(),\n",
        "    'decision tree': DecisionTreeRegressor(),\n",
        "    'random forest':RandomForestRegressor(),\n",
        "    'extra trees': ExtraTreesRegressor(),\n",
        "    'gradient boosting': GradientBoostingRegressor(),\n",
        "    'adaboost': AdaBoostRegressor(),\n",
        "    'mlp': MLPRegressor(),\n",
        "    'xgboost':XGBRegressor()\n",
        "}"
      ],
      "metadata": {
        "id": "2urjEl-RJlwP"
      },
      "execution_count": null,
      "outputs": []
    },
    {
      "cell_type": "code",
      "source": [
        "# preprocessor = ColumnTransformer([\n",
        "#     ('one-hot', OneHotEncoder(drop='first', sparse_output=False, dtype='int16'), [0, 2, 3]),\n",
        "#     ('total_stop', FunctionTransformer(lambda x: x.replace({'1 stops': 1, '1 stop': 1, 'non-stop': 0, '2 stops': 2, '3 stops': 3, '4 stops': 4}),\n",
        "#                                       validate=False), [df.columns.get_loc('Total_Stops')]),\n",
        "#     ('date_extractor', date_extractor, ['Date_of_Journey', 'Dep_Time','Duration']),\n",
        "\n",
        "# ], remainder='passthrough')\n",
        "\n",
        "def scorer(model_name, model):\n",
        "\n",
        "    output = []\n",
        "\n",
        "    output.append(model_name)\n",
        "\n",
        "    # pipeline = Pipeline([\n",
        "    #     ('preprocessor', preprocessor),\n",
        "    #     ('regressor', model)\n",
        "    # ])\n",
        "\n",
        "    clf = Pipeline([\n",
        "    ('preprocessor', preprocessor),\n",
        "    ('scaling' ,StandardScaler()),\n",
        "    # ('regression_model', LinearRegression())\n",
        "    ])\n",
        "    pipe_clf = Pipeline([\n",
        "    (\"clf\" ,clf),\n",
        "    ('regressor', model)\n",
        "    ])\n",
        "    df = X[['Airline', 'Date_of_Journey', 'Source', 'Destination', 'Dep_Time', 'Duration', 'Total_Stops']]\n",
        "    print(df.shape ,y.shape)\n",
        "    X_train, X_test, y_train, y_test = train_test_split(df,y,test_size=0.2,random_state=42)\n",
        "    # K-fold cross-validation\n",
        "    kfold = KFold(n_splits=10, shuffle=True, random_state=42)\n",
        "    scores = cross_val_score(pipe_clf,X_train, y_train , cv=kfold, scoring='r2')\n",
        "\n",
        "    output.append(scores.mean())\n",
        "\n",
        "\n",
        "\n",
        "    pipe_clf.fit(X_train,y_train)\n",
        "\n",
        "    y_pred = pipe_clf.predict(X_test)\n",
        "\n",
        "    output.append(mean_absolute_error(y_test,y_pred))\n",
        "\n",
        "    return output\n"
      ],
      "metadata": {
        "id": "DDPIPAv1J3Zh"
      },
      "execution_count": null,
      "outputs": []
    },
    {
      "cell_type": "code",
      "source": [
        "# model_output = []\n",
        "# for model_name,model in model_dict.items():\n",
        "#     model_output.append(scorer(model_name, model))\n",
        "# model_df = pd.DataFrame(model_output, columns=['name','r2','mae'])\n",
        "# model_df.sort_values(['mae'])\n",
        "# model_df"
      ],
      "metadata": {
        "id": "5P64GizmKp6H"
      },
      "execution_count": null,
      "outputs": []
    },
    {
      "cell_type": "markdown",
      "source": [
        "### parameter HyperParameterTuning"
      ],
      "metadata": {
        "id": "ic4H6PZwpnZ0"
      }
    },
    {
      "cell_type": "code",
      "source": [
        "param_grid = {'xgb__n_estimators': [100, 200, 300],\n",
        "    'xgb__learning_rate': [0.01, 0.1, 0.2],\n",
        "    'xgb__max_depth': [3, 4, 5]\n",
        "              }"
      ],
      "metadata": {
        "id": "EHnyGSF3dxGV"
      },
      "execution_count": null,
      "outputs": []
    },
    {
      "cell_type": "code",
      "source": [],
      "metadata": {
        "id": "3og8FMqauTcj"
      },
      "execution_count": null,
      "outputs": []
    },
    {
      "cell_type": "code",
      "source": [
        "  pipeline = Pipeline([\n",
        "    (\"clf\" ,clf),\n",
        "    ('xgb', XGBRegressor())\n",
        "    ])"
      ],
      "metadata": {
        "id": "XiCN9XTZvfYP"
      },
      "execution_count": null,
      "outputs": []
    },
    {
      "cell_type": "code",
      "source": [
        "grid_search = GridSearchCV(pipeline, param_grid, cv=5, scoring='r2', verbose=4)"
      ],
      "metadata": {
        "id": "YtqB2HlUwGNP"
      },
      "execution_count": null,
      "outputs": []
    },
    {
      "cell_type": "code",
      "source": [
        "# grid_search.fit(df,y_train)\n",
        "# best_params = grid_search.best_params_\n",
        "# print(best_params)\n",
        "# best_estimator = grid_search.best_estimator_\n",
        "# print(best_estimator)"
      ],
      "metadata": {
        "id": "Aslk7iesuTgf"
      },
      "execution_count": null,
      "outputs": []
    },
    {
      "cell_type": "code",
      "source": [
        "# grid_search.best_params_"
      ],
      "metadata": {
        "id": "kRm3lgWHuTj9"
      },
      "execution_count": null,
      "outputs": []
    },
    {
      "cell_type": "code",
      "source": [
        "# param_grid1 = {'n_estimators': 150,\n",
        "#     'learning_rate': 0.2,\n",
        "#     'max_depth': 5}\n",
        "param_grid1 = {'n_estimators': 300,\n",
        "    'learning_rate': 0.1,\n",
        "    'max_depth': 5}\n",
        "final_pipeline = Pipeline([\n",
        "    ('clf', clf),\n",
        "    ('xgb', XGBRegressor(**param_grid1))\n",
        "])\n"
      ],
      "metadata": {
        "id": "hZPvMLkM9Qde"
      },
      "execution_count": null,
      "outputs": []
    },
    {
      "cell_type": "code",
      "source": [
        "X = X[['Airline', 'Date_of_Journey', 'Source', 'Destination', 'Dep_Time', 'Duration', 'Total_Stops']]\n",
        "x_train,x_test,y_train,y_test = train_test_split(X,y ,test_size=0.2 ,random_state=42)\n",
        "# search = GradientBoostingRegressor(**param_grid)\n",
        "final_pipeline.fit(x_train ,y_train)\n",
        "from sklearn.metrics import mean_absolute_error\n",
        "print(\"Model Accuracy: %.3f\" % final_pipeline.score(x_test, y_test))\n",
        "mae = mean_absolute_error(y_test, final_pipeline.predict(x_test))\n",
        "print(\"The mean squared error (MSE) on test set: {:.4f}\".format(mae))\n",
        "\n",
        "# 85.5 1183"
      ],
      "metadata": {
        "id": "nY7YtDXqAhcG",
        "colab": {
          "base_uri": "https://localhost:8080/"
        },
        "outputId": "aba48d01-a76c-4a7d-83b5-6b1843f2cee4"
      },
      "execution_count": null,
      "outputs": [
        {
          "output_type": "stream",
          "name": "stdout",
          "text": [
            "Model Accuracy: 0.858\n",
            "The mean squared error (MSE) on test set: 1189.5499\n"
          ]
        }
      ]
    },
    {
      "cell_type": "markdown",
      "source": [
        "## predict output"
      ],
      "metadata": {
        "id": "mHBz6W12C5Ab"
      }
    },
    {
      "cell_type": "code",
      "source": [
        "data = [['Jet Airways' ,'15/05/2019' ,'Banglore' ,'Delhi','15:15' ,'2h 55m' ,'non-stop']]\n",
        "columns = ['Airline'\t,'Date_of_Journey',\t'Source',\t'Destination',\t'Dep_Time',\t'Duration',\t'Total_Stops']\n",
        "# Convert to DataFrame\n",
        "one_df = pd.DataFrame(data, columns=columns)\n",
        "final_pipeline.predict(one_df)"
      ],
      "metadata": {
        "id": "tDXWm86OAxMZ",
        "colab": {
          "base_uri": "https://localhost:8080/"
        },
        "outputId": "00f42fda-4e35-4c28-a479-f352a2321290"
      },
      "execution_count": null,
      "outputs": [
        {
          "output_type": "execute_result",
          "data": {
            "text/plain": [
              "array([5719.089], dtype=float32)"
            ]
          },
          "metadata": {},
          "execution_count": 183
        }
      ]
    },
    {
      "cell_type": "code",
      "source": [
        "x_train[(x_train['Airline'] =='Jet Airways') & (x_train['Date_of_Journey'] =='15/05/2019') & (x_train['Dep_Time'] =='15:15')]"
      ],
      "metadata": {
        "id": "MtWnPgLPDLR-",
        "colab": {
          "base_uri": "https://localhost:8080/",
          "height": 112
        },
        "outputId": "8f60149f-ef27-4b2e-f90c-0636b8c2b607"
      },
      "execution_count": null,
      "outputs": [
        {
          "output_type": "execute_result",
          "data": {
            "text/plain": [
              "          Airline Date_of_Journey    Source Destination Dep_Time Duration  \\\n",
              "1420  Jet Airways      15/05/2019  Banglore       Delhi    15:15   2h 55m   \n",
              "8417  Jet Airways      15/05/2019  Banglore       Delhi    15:15   2h 55m   \n",
              "\n",
              "     Total_Stops  \n",
              "1420    non-stop  \n",
              "8417    non-stop  "
            ],
            "text/html": [
              "\n",
              "  <div id=\"df-8fb700a1-608d-41c7-b71e-fcef6182fa6e\" class=\"colab-df-container\">\n",
              "    <div>\n",
              "<style scoped>\n",
              "    .dataframe tbody tr th:only-of-type {\n",
              "        vertical-align: middle;\n",
              "    }\n",
              "\n",
              "    .dataframe tbody tr th {\n",
              "        vertical-align: top;\n",
              "    }\n",
              "\n",
              "    .dataframe thead th {\n",
              "        text-align: right;\n",
              "    }\n",
              "</style>\n",
              "<table border=\"1\" class=\"dataframe\">\n",
              "  <thead>\n",
              "    <tr style=\"text-align: right;\">\n",
              "      <th></th>\n",
              "      <th>Airline</th>\n",
              "      <th>Date_of_Journey</th>\n",
              "      <th>Source</th>\n",
              "      <th>Destination</th>\n",
              "      <th>Dep_Time</th>\n",
              "      <th>Duration</th>\n",
              "      <th>Total_Stops</th>\n",
              "    </tr>\n",
              "  </thead>\n",
              "  <tbody>\n",
              "    <tr>\n",
              "      <th>1420</th>\n",
              "      <td>Jet Airways</td>\n",
              "      <td>15/05/2019</td>\n",
              "      <td>Banglore</td>\n",
              "      <td>Delhi</td>\n",
              "      <td>15:15</td>\n",
              "      <td>2h 55m</td>\n",
              "      <td>non-stop</td>\n",
              "    </tr>\n",
              "    <tr>\n",
              "      <th>8417</th>\n",
              "      <td>Jet Airways</td>\n",
              "      <td>15/05/2019</td>\n",
              "      <td>Banglore</td>\n",
              "      <td>Delhi</td>\n",
              "      <td>15:15</td>\n",
              "      <td>2h 55m</td>\n",
              "      <td>non-stop</td>\n",
              "    </tr>\n",
              "  </tbody>\n",
              "</table>\n",
              "</div>\n",
              "    <div class=\"colab-df-buttons\">\n",
              "\n",
              "  <div class=\"colab-df-container\">\n",
              "    <button class=\"colab-df-convert\" onclick=\"convertToInteractive('df-8fb700a1-608d-41c7-b71e-fcef6182fa6e')\"\n",
              "            title=\"Convert this dataframe to an interactive table.\"\n",
              "            style=\"display:none;\">\n",
              "\n",
              "  <svg xmlns=\"http://www.w3.org/2000/svg\" height=\"24px\" viewBox=\"0 -960 960 960\">\n",
              "    <path d=\"M120-120v-720h720v720H120Zm60-500h600v-160H180v160Zm220 220h160v-160H400v160Zm0 220h160v-160H400v160ZM180-400h160v-160H180v160Zm440 0h160v-160H620v160ZM180-180h160v-160H180v160Zm440 0h160v-160H620v160Z\"/>\n",
              "  </svg>\n",
              "    </button>\n",
              "\n",
              "  <style>\n",
              "    .colab-df-container {\n",
              "      display:flex;\n",
              "      gap: 12px;\n",
              "    }\n",
              "\n",
              "    .colab-df-convert {\n",
              "      background-color: #E8F0FE;\n",
              "      border: none;\n",
              "      border-radius: 50%;\n",
              "      cursor: pointer;\n",
              "      display: none;\n",
              "      fill: #1967D2;\n",
              "      height: 32px;\n",
              "      padding: 0 0 0 0;\n",
              "      width: 32px;\n",
              "    }\n",
              "\n",
              "    .colab-df-convert:hover {\n",
              "      background-color: #E2EBFA;\n",
              "      box-shadow: 0px 1px 2px rgba(60, 64, 67, 0.3), 0px 1px 3px 1px rgba(60, 64, 67, 0.15);\n",
              "      fill: #174EA6;\n",
              "    }\n",
              "\n",
              "    .colab-df-buttons div {\n",
              "      margin-bottom: 4px;\n",
              "    }\n",
              "\n",
              "    [theme=dark] .colab-df-convert {\n",
              "      background-color: #3B4455;\n",
              "      fill: #D2E3FC;\n",
              "    }\n",
              "\n",
              "    [theme=dark] .colab-df-convert:hover {\n",
              "      background-color: #434B5C;\n",
              "      box-shadow: 0px 1px 3px 1px rgba(0, 0, 0, 0.15);\n",
              "      filter: drop-shadow(0px 1px 2px rgba(0, 0, 0, 0.3));\n",
              "      fill: #FFFFFF;\n",
              "    }\n",
              "  </style>\n",
              "\n",
              "    <script>\n",
              "      const buttonEl =\n",
              "        document.querySelector('#df-8fb700a1-608d-41c7-b71e-fcef6182fa6e button.colab-df-convert');\n",
              "      buttonEl.style.display =\n",
              "        google.colab.kernel.accessAllowed ? 'block' : 'none';\n",
              "\n",
              "      async function convertToInteractive(key) {\n",
              "        const element = document.querySelector('#df-8fb700a1-608d-41c7-b71e-fcef6182fa6e');\n",
              "        const dataTable =\n",
              "          await google.colab.kernel.invokeFunction('convertToInteractive',\n",
              "                                                    [key], {});\n",
              "        if (!dataTable) return;\n",
              "\n",
              "        const docLinkHtml = 'Like what you see? Visit the ' +\n",
              "          '<a target=\"_blank\" href=https://colab.research.google.com/notebooks/data_table.ipynb>data table notebook</a>'\n",
              "          + ' to learn more about interactive tables.';\n",
              "        element.innerHTML = '';\n",
              "        dataTable['output_type'] = 'display_data';\n",
              "        await google.colab.output.renderOutput(dataTable, element);\n",
              "        const docLink = document.createElement('div');\n",
              "        docLink.innerHTML = docLinkHtml;\n",
              "        element.appendChild(docLink);\n",
              "      }\n",
              "    </script>\n",
              "  </div>\n",
              "\n",
              "\n",
              "<div id=\"df-77699afa-c3c4-48b2-bf20-81f9fa621dbd\">\n",
              "  <button class=\"colab-df-quickchart\" onclick=\"quickchart('df-77699afa-c3c4-48b2-bf20-81f9fa621dbd')\"\n",
              "            title=\"Suggest charts\"\n",
              "            style=\"display:none;\">\n",
              "\n",
              "<svg xmlns=\"http://www.w3.org/2000/svg\" height=\"24px\"viewBox=\"0 0 24 24\"\n",
              "     width=\"24px\">\n",
              "    <g>\n",
              "        <path d=\"M19 3H5c-1.1 0-2 .9-2 2v14c0 1.1.9 2 2 2h14c1.1 0 2-.9 2-2V5c0-1.1-.9-2-2-2zM9 17H7v-7h2v7zm4 0h-2V7h2v10zm4 0h-2v-4h2v4z\"/>\n",
              "    </g>\n",
              "</svg>\n",
              "  </button>\n",
              "\n",
              "<style>\n",
              "  .colab-df-quickchart {\n",
              "      --bg-color: #E8F0FE;\n",
              "      --fill-color: #1967D2;\n",
              "      --hover-bg-color: #E2EBFA;\n",
              "      --hover-fill-color: #174EA6;\n",
              "      --disabled-fill-color: #AAA;\n",
              "      --disabled-bg-color: #DDD;\n",
              "  }\n",
              "\n",
              "  [theme=dark] .colab-df-quickchart {\n",
              "      --bg-color: #3B4455;\n",
              "      --fill-color: #D2E3FC;\n",
              "      --hover-bg-color: #434B5C;\n",
              "      --hover-fill-color: #FFFFFF;\n",
              "      --disabled-bg-color: #3B4455;\n",
              "      --disabled-fill-color: #666;\n",
              "  }\n",
              "\n",
              "  .colab-df-quickchart {\n",
              "    background-color: var(--bg-color);\n",
              "    border: none;\n",
              "    border-radius: 50%;\n",
              "    cursor: pointer;\n",
              "    display: none;\n",
              "    fill: var(--fill-color);\n",
              "    height: 32px;\n",
              "    padding: 0;\n",
              "    width: 32px;\n",
              "  }\n",
              "\n",
              "  .colab-df-quickchart:hover {\n",
              "    background-color: var(--hover-bg-color);\n",
              "    box-shadow: 0 1px 2px rgba(60, 64, 67, 0.3), 0 1px 3px 1px rgba(60, 64, 67, 0.15);\n",
              "    fill: var(--button-hover-fill-color);\n",
              "  }\n",
              "\n",
              "  .colab-df-quickchart-complete:disabled,\n",
              "  .colab-df-quickchart-complete:disabled:hover {\n",
              "    background-color: var(--disabled-bg-color);\n",
              "    fill: var(--disabled-fill-color);\n",
              "    box-shadow: none;\n",
              "  }\n",
              "\n",
              "  .colab-df-spinner {\n",
              "    border: 2px solid var(--fill-color);\n",
              "    border-color: transparent;\n",
              "    border-bottom-color: var(--fill-color);\n",
              "    animation:\n",
              "      spin 1s steps(1) infinite;\n",
              "  }\n",
              "\n",
              "  @keyframes spin {\n",
              "    0% {\n",
              "      border-color: transparent;\n",
              "      border-bottom-color: var(--fill-color);\n",
              "      border-left-color: var(--fill-color);\n",
              "    }\n",
              "    20% {\n",
              "      border-color: transparent;\n",
              "      border-left-color: var(--fill-color);\n",
              "      border-top-color: var(--fill-color);\n",
              "    }\n",
              "    30% {\n",
              "      border-color: transparent;\n",
              "      border-left-color: var(--fill-color);\n",
              "      border-top-color: var(--fill-color);\n",
              "      border-right-color: var(--fill-color);\n",
              "    }\n",
              "    40% {\n",
              "      border-color: transparent;\n",
              "      border-right-color: var(--fill-color);\n",
              "      border-top-color: var(--fill-color);\n",
              "    }\n",
              "    60% {\n",
              "      border-color: transparent;\n",
              "      border-right-color: var(--fill-color);\n",
              "    }\n",
              "    80% {\n",
              "      border-color: transparent;\n",
              "      border-right-color: var(--fill-color);\n",
              "      border-bottom-color: var(--fill-color);\n",
              "    }\n",
              "    90% {\n",
              "      border-color: transparent;\n",
              "      border-bottom-color: var(--fill-color);\n",
              "    }\n",
              "  }\n",
              "</style>\n",
              "\n",
              "  <script>\n",
              "    async function quickchart(key) {\n",
              "      const quickchartButtonEl =\n",
              "        document.querySelector('#' + key + ' button');\n",
              "      quickchartButtonEl.disabled = true;  // To prevent multiple clicks.\n",
              "      quickchartButtonEl.classList.add('colab-df-spinner');\n",
              "      try {\n",
              "        const charts = await google.colab.kernel.invokeFunction(\n",
              "            'suggestCharts', [key], {});\n",
              "      } catch (error) {\n",
              "        console.error('Error during call to suggestCharts:', error);\n",
              "      }\n",
              "      quickchartButtonEl.classList.remove('colab-df-spinner');\n",
              "      quickchartButtonEl.classList.add('colab-df-quickchart-complete');\n",
              "    }\n",
              "    (() => {\n",
              "      let quickchartButtonEl =\n",
              "        document.querySelector('#df-77699afa-c3c4-48b2-bf20-81f9fa621dbd button');\n",
              "      quickchartButtonEl.style.display =\n",
              "        google.colab.kernel.accessAllowed ? 'block' : 'none';\n",
              "    })();\n",
              "  </script>\n",
              "</div>\n",
              "\n",
              "    </div>\n",
              "  </div>\n"
            ]
          },
          "metadata": {},
          "execution_count": 184
        }
      ]
    },
    {
      "cell_type": "code",
      "source": [
        "y_train.iloc[8417]"
      ],
      "metadata": {
        "id": "dUHjnHx6El1C",
        "colab": {
          "base_uri": "https://localhost:8080/"
        },
        "outputId": "1235bac8-547f-4c95-f9d1-9a24c51a63ac"
      },
      "execution_count": null,
      "outputs": [
        {
          "output_type": "execute_result",
          "data": {
            "text/plain": [
              "5678"
            ]
          },
          "metadata": {},
          "execution_count": 185
        }
      ]
    },
    {
      "cell_type": "code",
      "source": [
        "X.iloc[[1420,8417]]"
      ],
      "metadata": {
        "id": "7mhKc9R0FJKM",
        "colab": {
          "base_uri": "https://localhost:8080/",
          "height": 112
        },
        "outputId": "7d78c20e-c3a3-461c-a16b-720c0e050a01"
      },
      "execution_count": null,
      "outputs": [
        {
          "output_type": "execute_result",
          "data": {
            "text/plain": [
              "          Airline Date_of_Journey    Source Destination Dep_Time Duration  \\\n",
              "1420  Jet Airways      15/05/2019  Banglore       Delhi    15:15   2h 55m   \n",
              "8417  Jet Airways      15/05/2019  Banglore       Delhi    15:15   2h 55m   \n",
              "\n",
              "     Total_Stops  \n",
              "1420    non-stop  \n",
              "8417    non-stop  "
            ],
            "text/html": [
              "\n",
              "  <div id=\"df-d46e5a0d-1355-4101-b12f-4f64eb509669\" class=\"colab-df-container\">\n",
              "    <div>\n",
              "<style scoped>\n",
              "    .dataframe tbody tr th:only-of-type {\n",
              "        vertical-align: middle;\n",
              "    }\n",
              "\n",
              "    .dataframe tbody tr th {\n",
              "        vertical-align: top;\n",
              "    }\n",
              "\n",
              "    .dataframe thead th {\n",
              "        text-align: right;\n",
              "    }\n",
              "</style>\n",
              "<table border=\"1\" class=\"dataframe\">\n",
              "  <thead>\n",
              "    <tr style=\"text-align: right;\">\n",
              "      <th></th>\n",
              "      <th>Airline</th>\n",
              "      <th>Date_of_Journey</th>\n",
              "      <th>Source</th>\n",
              "      <th>Destination</th>\n",
              "      <th>Dep_Time</th>\n",
              "      <th>Duration</th>\n",
              "      <th>Total_Stops</th>\n",
              "    </tr>\n",
              "  </thead>\n",
              "  <tbody>\n",
              "    <tr>\n",
              "      <th>1420</th>\n",
              "      <td>Jet Airways</td>\n",
              "      <td>15/05/2019</td>\n",
              "      <td>Banglore</td>\n",
              "      <td>Delhi</td>\n",
              "      <td>15:15</td>\n",
              "      <td>2h 55m</td>\n",
              "      <td>non-stop</td>\n",
              "    </tr>\n",
              "    <tr>\n",
              "      <th>8417</th>\n",
              "      <td>Jet Airways</td>\n",
              "      <td>15/05/2019</td>\n",
              "      <td>Banglore</td>\n",
              "      <td>Delhi</td>\n",
              "      <td>15:15</td>\n",
              "      <td>2h 55m</td>\n",
              "      <td>non-stop</td>\n",
              "    </tr>\n",
              "  </tbody>\n",
              "</table>\n",
              "</div>\n",
              "    <div class=\"colab-df-buttons\">\n",
              "\n",
              "  <div class=\"colab-df-container\">\n",
              "    <button class=\"colab-df-convert\" onclick=\"convertToInteractive('df-d46e5a0d-1355-4101-b12f-4f64eb509669')\"\n",
              "            title=\"Convert this dataframe to an interactive table.\"\n",
              "            style=\"display:none;\">\n",
              "\n",
              "  <svg xmlns=\"http://www.w3.org/2000/svg\" height=\"24px\" viewBox=\"0 -960 960 960\">\n",
              "    <path d=\"M120-120v-720h720v720H120Zm60-500h600v-160H180v160Zm220 220h160v-160H400v160Zm0 220h160v-160H400v160ZM180-400h160v-160H180v160Zm440 0h160v-160H620v160ZM180-180h160v-160H180v160Zm440 0h160v-160H620v160Z\"/>\n",
              "  </svg>\n",
              "    </button>\n",
              "\n",
              "  <style>\n",
              "    .colab-df-container {\n",
              "      display:flex;\n",
              "      gap: 12px;\n",
              "    }\n",
              "\n",
              "    .colab-df-convert {\n",
              "      background-color: #E8F0FE;\n",
              "      border: none;\n",
              "      border-radius: 50%;\n",
              "      cursor: pointer;\n",
              "      display: none;\n",
              "      fill: #1967D2;\n",
              "      height: 32px;\n",
              "      padding: 0 0 0 0;\n",
              "      width: 32px;\n",
              "    }\n",
              "\n",
              "    .colab-df-convert:hover {\n",
              "      background-color: #E2EBFA;\n",
              "      box-shadow: 0px 1px 2px rgba(60, 64, 67, 0.3), 0px 1px 3px 1px rgba(60, 64, 67, 0.15);\n",
              "      fill: #174EA6;\n",
              "    }\n",
              "\n",
              "    .colab-df-buttons div {\n",
              "      margin-bottom: 4px;\n",
              "    }\n",
              "\n",
              "    [theme=dark] .colab-df-convert {\n",
              "      background-color: #3B4455;\n",
              "      fill: #D2E3FC;\n",
              "    }\n",
              "\n",
              "    [theme=dark] .colab-df-convert:hover {\n",
              "      background-color: #434B5C;\n",
              "      box-shadow: 0px 1px 3px 1px rgba(0, 0, 0, 0.15);\n",
              "      filter: drop-shadow(0px 1px 2px rgba(0, 0, 0, 0.3));\n",
              "      fill: #FFFFFF;\n",
              "    }\n",
              "  </style>\n",
              "\n",
              "    <script>\n",
              "      const buttonEl =\n",
              "        document.querySelector('#df-d46e5a0d-1355-4101-b12f-4f64eb509669 button.colab-df-convert');\n",
              "      buttonEl.style.display =\n",
              "        google.colab.kernel.accessAllowed ? 'block' : 'none';\n",
              "\n",
              "      async function convertToInteractive(key) {\n",
              "        const element = document.querySelector('#df-d46e5a0d-1355-4101-b12f-4f64eb509669');\n",
              "        const dataTable =\n",
              "          await google.colab.kernel.invokeFunction('convertToInteractive',\n",
              "                                                    [key], {});\n",
              "        if (!dataTable) return;\n",
              "\n",
              "        const docLinkHtml = 'Like what you see? Visit the ' +\n",
              "          '<a target=\"_blank\" href=https://colab.research.google.com/notebooks/data_table.ipynb>data table notebook</a>'\n",
              "          + ' to learn more about interactive tables.';\n",
              "        element.innerHTML = '';\n",
              "        dataTable['output_type'] = 'display_data';\n",
              "        await google.colab.output.renderOutput(dataTable, element);\n",
              "        const docLink = document.createElement('div');\n",
              "        docLink.innerHTML = docLinkHtml;\n",
              "        element.appendChild(docLink);\n",
              "      }\n",
              "    </script>\n",
              "  </div>\n",
              "\n",
              "\n",
              "<div id=\"df-388a8a8b-53b4-44bf-9bcb-629b8d434ce7\">\n",
              "  <button class=\"colab-df-quickchart\" onclick=\"quickchart('df-388a8a8b-53b4-44bf-9bcb-629b8d434ce7')\"\n",
              "            title=\"Suggest charts\"\n",
              "            style=\"display:none;\">\n",
              "\n",
              "<svg xmlns=\"http://www.w3.org/2000/svg\" height=\"24px\"viewBox=\"0 0 24 24\"\n",
              "     width=\"24px\">\n",
              "    <g>\n",
              "        <path d=\"M19 3H5c-1.1 0-2 .9-2 2v14c0 1.1.9 2 2 2h14c1.1 0 2-.9 2-2V5c0-1.1-.9-2-2-2zM9 17H7v-7h2v7zm4 0h-2V7h2v10zm4 0h-2v-4h2v4z\"/>\n",
              "    </g>\n",
              "</svg>\n",
              "  </button>\n",
              "\n",
              "<style>\n",
              "  .colab-df-quickchart {\n",
              "      --bg-color: #E8F0FE;\n",
              "      --fill-color: #1967D2;\n",
              "      --hover-bg-color: #E2EBFA;\n",
              "      --hover-fill-color: #174EA6;\n",
              "      --disabled-fill-color: #AAA;\n",
              "      --disabled-bg-color: #DDD;\n",
              "  }\n",
              "\n",
              "  [theme=dark] .colab-df-quickchart {\n",
              "      --bg-color: #3B4455;\n",
              "      --fill-color: #D2E3FC;\n",
              "      --hover-bg-color: #434B5C;\n",
              "      --hover-fill-color: #FFFFFF;\n",
              "      --disabled-bg-color: #3B4455;\n",
              "      --disabled-fill-color: #666;\n",
              "  }\n",
              "\n",
              "  .colab-df-quickchart {\n",
              "    background-color: var(--bg-color);\n",
              "    border: none;\n",
              "    border-radius: 50%;\n",
              "    cursor: pointer;\n",
              "    display: none;\n",
              "    fill: var(--fill-color);\n",
              "    height: 32px;\n",
              "    padding: 0;\n",
              "    width: 32px;\n",
              "  }\n",
              "\n",
              "  .colab-df-quickchart:hover {\n",
              "    background-color: var(--hover-bg-color);\n",
              "    box-shadow: 0 1px 2px rgba(60, 64, 67, 0.3), 0 1px 3px 1px rgba(60, 64, 67, 0.15);\n",
              "    fill: var(--button-hover-fill-color);\n",
              "  }\n",
              "\n",
              "  .colab-df-quickchart-complete:disabled,\n",
              "  .colab-df-quickchart-complete:disabled:hover {\n",
              "    background-color: var(--disabled-bg-color);\n",
              "    fill: var(--disabled-fill-color);\n",
              "    box-shadow: none;\n",
              "  }\n",
              "\n",
              "  .colab-df-spinner {\n",
              "    border: 2px solid var(--fill-color);\n",
              "    border-color: transparent;\n",
              "    border-bottom-color: var(--fill-color);\n",
              "    animation:\n",
              "      spin 1s steps(1) infinite;\n",
              "  }\n",
              "\n",
              "  @keyframes spin {\n",
              "    0% {\n",
              "      border-color: transparent;\n",
              "      border-bottom-color: var(--fill-color);\n",
              "      border-left-color: var(--fill-color);\n",
              "    }\n",
              "    20% {\n",
              "      border-color: transparent;\n",
              "      border-left-color: var(--fill-color);\n",
              "      border-top-color: var(--fill-color);\n",
              "    }\n",
              "    30% {\n",
              "      border-color: transparent;\n",
              "      border-left-color: var(--fill-color);\n",
              "      border-top-color: var(--fill-color);\n",
              "      border-right-color: var(--fill-color);\n",
              "    }\n",
              "    40% {\n",
              "      border-color: transparent;\n",
              "      border-right-color: var(--fill-color);\n",
              "      border-top-color: var(--fill-color);\n",
              "    }\n",
              "    60% {\n",
              "      border-color: transparent;\n",
              "      border-right-color: var(--fill-color);\n",
              "    }\n",
              "    80% {\n",
              "      border-color: transparent;\n",
              "      border-right-color: var(--fill-color);\n",
              "      border-bottom-color: var(--fill-color);\n",
              "    }\n",
              "    90% {\n",
              "      border-color: transparent;\n",
              "      border-bottom-color: var(--fill-color);\n",
              "    }\n",
              "  }\n",
              "</style>\n",
              "\n",
              "  <script>\n",
              "    async function quickchart(key) {\n",
              "      const quickchartButtonEl =\n",
              "        document.querySelector('#' + key + ' button');\n",
              "      quickchartButtonEl.disabled = true;  // To prevent multiple clicks.\n",
              "      quickchartButtonEl.classList.add('colab-df-spinner');\n",
              "      try {\n",
              "        const charts = await google.colab.kernel.invokeFunction(\n",
              "            'suggestCharts', [key], {});\n",
              "      } catch (error) {\n",
              "        console.error('Error during call to suggestCharts:', error);\n",
              "      }\n",
              "      quickchartButtonEl.classList.remove('colab-df-spinner');\n",
              "      quickchartButtonEl.classList.add('colab-df-quickchart-complete');\n",
              "    }\n",
              "    (() => {\n",
              "      let quickchartButtonEl =\n",
              "        document.querySelector('#df-388a8a8b-53b4-44bf-9bcb-629b8d434ce7 button');\n",
              "      quickchartButtonEl.style.display =\n",
              "        google.colab.kernel.accessAllowed ? 'block' : 'none';\n",
              "    })();\n",
              "  </script>\n",
              "</div>\n",
              "\n",
              "    </div>\n",
              "  </div>\n"
            ]
          },
          "metadata": {},
          "execution_count": 186
        }
      ]
    },
    {
      "cell_type": "code",
      "source": [
        "import pickle\n",
        "with open('final_pipeline.pkl' ,'wb')as file:\n",
        "  pickle.dump(final_pipeline ,file ,protocol=2)"
      ],
      "metadata": {
        "id": "BbVmPLofFgbK"
      },
      "execution_count": null,
      "outputs": []
    },
    {
      "cell_type": "code",
      "source": [
        "with open('df_final.pkl', 'wb') as file:\n",
        "    pickle.dump(x_train, file)"
      ],
      "metadata": {
        "id": "0D7xqo-tKCN5"
      },
      "execution_count": null,
      "outputs": []
    },
    {
      "cell_type": "code",
      "source": [
        "# !pip install joblib"
      ],
      "metadata": {
        "colab": {
          "base_uri": "https://localhost:8080/"
        },
        "id": "9dzNnqZPE3-o",
        "outputId": "00ac6254-466e-4d17-e214-68ff88e352e2"
      },
      "execution_count": null,
      "outputs": [
        {
          "output_type": "stream",
          "name": "stdout",
          "text": [
            "Requirement already satisfied: joblib in /usr/local/lib/python3.10/dist-packages (1.3.2)\n"
          ]
        }
      ]
    },
    {
      "cell_type": "code",
      "source": [
        "from joblib import dump\n",
        "dump(final_pipeline, 'pipe.joblib')"
      ],
      "metadata": {
        "colab": {
          "base_uri": "https://localhost:8080/"
        },
        "id": "Lefj9Np8E4DI",
        "outputId": "fa17a7cc-c6f4-471c-f6ab-f16c988f48b5"
      },
      "execution_count": null,
      "outputs": [
        {
          "output_type": "execute_result",
          "data": {
            "text/plain": [
              "['pipe.joblib']"
            ]
          },
          "metadata": {},
          "execution_count": 191
        }
      ]
    },
    {
      "cell_type": "code",
      "source": [],
      "metadata": {
        "id": "CuDfEWb2E4G-"
      },
      "execution_count": null,
      "outputs": []
    },
    {
      "cell_type": "code",
      "source": [],
      "metadata": {
        "id": "1Gu-kNLRE4K1"
      },
      "execution_count": null,
      "outputs": []
    }
  ],
  "metadata": {
    "colab": {
      "provenance": [],
      "mount_file_id": "1gxqdIcfoGR-hINeuUjJTvrIs82wubaLO",
      "authorship_tag": "ABX9TyNIG7xJpwLuhXipgLXKJ8YV",
      "include_colab_link": true
    },
    "kernelspec": {
      "display_name": "Python 3",
      "name": "python3"
    },
    "language_info": {
      "name": "python"
    }
  },
  "nbformat": 4,
  "nbformat_minor": 0
}